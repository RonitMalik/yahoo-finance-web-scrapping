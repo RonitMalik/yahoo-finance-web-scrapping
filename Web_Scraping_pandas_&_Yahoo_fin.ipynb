{
  "nbformat": 4,
  "nbformat_minor": 0,
  "metadata": {
    "colab": {
      "name": "Web Scraping pandas & Yahoo_fin.ipynb",
      "provenance": [],
      "authorship_tag": "ABX9TyNGjVZc7JKM+X2X5v9aV+Eb"
    },
    "kernelspec": {
      "name": "python3",
      "display_name": "Python 3"
    }
  },
  "cells": [
    {
      "cell_type": "code",
      "metadata": {
        "id": "5ayxmB6Mux4H"
      },
      "source": [
        "#todays agenda \n",
        "\n",
        "# pandas datareader \n",
        "\n",
        "# yahoo_fin "
      ],
      "execution_count": null,
      "outputs": []
    },
    {
      "cell_type": "code",
      "metadata": {
        "id": "q8upIhEzu9RV"
      },
      "source": [
        "#import all the libraries \n",
        "\n",
        "from pandas_datareader import data\n",
        "import pandas as pd\n"
      ],
      "execution_count": 38,
      "outputs": []
    },
    {
      "cell_type": "code",
      "metadata": {
        "id": "X0vMQ8eSvFLk"
      },
      "source": [
        "start_date = '2010-01-01'\n",
        "end_date = '2020-01-01'"
      ],
      "execution_count": 39,
      "outputs": []
    },
    {
      "cell_type": "code",
      "metadata": {
        "id": "HWQCEzi0vLso"
      },
      "source": [
        "df = data.DataReader('aapl', data_source='yahoo', start=start_date, end=end_date)"
      ],
      "execution_count": 40,
      "outputs": []
    },
    {
      "cell_type": "code",
      "metadata": {
        "id": "n7oOTeX5voIN",
        "outputId": "92fa0618-d787-4487-9003-a4704a31f48a",
        "colab": {
          "base_uri": "https://localhost:8080/",
          "height": 235
        }
      },
      "source": [
        "df.head()"
      ],
      "execution_count": 41,
      "outputs": [
        {
          "output_type": "execute_result",
          "data": {
            "text/html": [
              "<div>\n",
              "<style scoped>\n",
              "    .dataframe tbody tr th:only-of-type {\n",
              "        vertical-align: middle;\n",
              "    }\n",
              "\n",
              "    .dataframe tbody tr th {\n",
              "        vertical-align: top;\n",
              "    }\n",
              "\n",
              "    .dataframe thead th {\n",
              "        text-align: right;\n",
              "    }\n",
              "</style>\n",
              "<table border=\"1\" class=\"dataframe\">\n",
              "  <thead>\n",
              "    <tr style=\"text-align: right;\">\n",
              "      <th></th>\n",
              "      <th>High</th>\n",
              "      <th>Low</th>\n",
              "      <th>Open</th>\n",
              "      <th>Close</th>\n",
              "      <th>Volume</th>\n",
              "      <th>Adj Close</th>\n",
              "    </tr>\n",
              "    <tr>\n",
              "      <th>Date</th>\n",
              "      <th></th>\n",
              "      <th></th>\n",
              "      <th></th>\n",
              "      <th></th>\n",
              "      <th></th>\n",
              "      <th></th>\n",
              "    </tr>\n",
              "  </thead>\n",
              "  <tbody>\n",
              "    <tr>\n",
              "      <th>2010-01-04</th>\n",
              "      <td>7.660714</td>\n",
              "      <td>7.585000</td>\n",
              "      <td>7.622500</td>\n",
              "      <td>7.643214</td>\n",
              "      <td>493729600.0</td>\n",
              "      <td>6.604801</td>\n",
              "    </tr>\n",
              "    <tr>\n",
              "      <th>2010-01-05</th>\n",
              "      <td>7.699643</td>\n",
              "      <td>7.616071</td>\n",
              "      <td>7.664286</td>\n",
              "      <td>7.656428</td>\n",
              "      <td>601904800.0</td>\n",
              "      <td>6.616219</td>\n",
              "    </tr>\n",
              "    <tr>\n",
              "      <th>2010-01-06</th>\n",
              "      <td>7.686786</td>\n",
              "      <td>7.526786</td>\n",
              "      <td>7.656428</td>\n",
              "      <td>7.534643</td>\n",
              "      <td>552160000.0</td>\n",
              "      <td>6.510980</td>\n",
              "    </tr>\n",
              "    <tr>\n",
              "      <th>2010-01-07</th>\n",
              "      <td>7.571429</td>\n",
              "      <td>7.466072</td>\n",
              "      <td>7.562500</td>\n",
              "      <td>7.520714</td>\n",
              "      <td>477131200.0</td>\n",
              "      <td>6.498945</td>\n",
              "    </tr>\n",
              "    <tr>\n",
              "      <th>2010-01-08</th>\n",
              "      <td>7.571429</td>\n",
              "      <td>7.466429</td>\n",
              "      <td>7.510714</td>\n",
              "      <td>7.570714</td>\n",
              "      <td>447610800.0</td>\n",
              "      <td>6.542150</td>\n",
              "    </tr>\n",
              "  </tbody>\n",
              "</table>\n",
              "</div>"
            ],
            "text/plain": [
              "                High       Low      Open     Close       Volume  Adj Close\n",
              "Date                                                                      \n",
              "2010-01-04  7.660714  7.585000  7.622500  7.643214  493729600.0   6.604801\n",
              "2010-01-05  7.699643  7.616071  7.664286  7.656428  601904800.0   6.616219\n",
              "2010-01-06  7.686786  7.526786  7.656428  7.534643  552160000.0   6.510980\n",
              "2010-01-07  7.571429  7.466072  7.562500  7.520714  477131200.0   6.498945\n",
              "2010-01-08  7.571429  7.466429  7.510714  7.570714  447610800.0   6.542150"
            ]
          },
          "metadata": {
            "tags": []
          },
          "execution_count": 41
        }
      ]
    },
    {
      "cell_type": "code",
      "metadata": {
        "id": "pfcd0ReUvqOE",
        "outputId": "fa14c14f-b91b-420f-e5ba-ba9ff43c8cc6",
        "colab": {
          "base_uri": "https://localhost:8080/",
          "height": 235
        }
      },
      "source": [
        "df.tail()"
      ],
      "execution_count": 42,
      "outputs": [
        {
          "output_type": "execute_result",
          "data": {
            "text/html": [
              "<div>\n",
              "<style scoped>\n",
              "    .dataframe tbody tr th:only-of-type {\n",
              "        vertical-align: middle;\n",
              "    }\n",
              "\n",
              "    .dataframe tbody tr th {\n",
              "        vertical-align: top;\n",
              "    }\n",
              "\n",
              "    .dataframe thead th {\n",
              "        text-align: right;\n",
              "    }\n",
              "</style>\n",
              "<table border=\"1\" class=\"dataframe\">\n",
              "  <thead>\n",
              "    <tr style=\"text-align: right;\">\n",
              "      <th></th>\n",
              "      <th>High</th>\n",
              "      <th>Low</th>\n",
              "      <th>Open</th>\n",
              "      <th>Close</th>\n",
              "      <th>Volume</th>\n",
              "      <th>Adj Close</th>\n",
              "    </tr>\n",
              "    <tr>\n",
              "      <th>Date</th>\n",
              "      <th></th>\n",
              "      <th></th>\n",
              "      <th></th>\n",
              "      <th></th>\n",
              "      <th></th>\n",
              "      <th></th>\n",
              "    </tr>\n",
              "  </thead>\n",
              "  <tbody>\n",
              "    <tr>\n",
              "      <th>2019-12-24</th>\n",
              "      <td>71.222504</td>\n",
              "      <td>70.730003</td>\n",
              "      <td>71.172501</td>\n",
              "      <td>71.067497</td>\n",
              "      <td>48478800.0</td>\n",
              "      <td>70.580566</td>\n",
              "    </tr>\n",
              "    <tr>\n",
              "      <th>2019-12-26</th>\n",
              "      <td>72.495003</td>\n",
              "      <td>71.175003</td>\n",
              "      <td>71.205002</td>\n",
              "      <td>72.477501</td>\n",
              "      <td>93121200.0</td>\n",
              "      <td>71.980911</td>\n",
              "    </tr>\n",
              "    <tr>\n",
              "      <th>2019-12-27</th>\n",
              "      <td>73.492500</td>\n",
              "      <td>72.029999</td>\n",
              "      <td>72.779999</td>\n",
              "      <td>72.449997</td>\n",
              "      <td>146266000.0</td>\n",
              "      <td>71.953598</td>\n",
              "    </tr>\n",
              "    <tr>\n",
              "      <th>2019-12-30</th>\n",
              "      <td>73.172501</td>\n",
              "      <td>71.305000</td>\n",
              "      <td>72.364998</td>\n",
              "      <td>72.879997</td>\n",
              "      <td>144114400.0</td>\n",
              "      <td>72.380653</td>\n",
              "    </tr>\n",
              "    <tr>\n",
              "      <th>2019-12-31</th>\n",
              "      <td>73.419998</td>\n",
              "      <td>72.379997</td>\n",
              "      <td>72.482498</td>\n",
              "      <td>73.412498</td>\n",
              "      <td>100805600.0</td>\n",
              "      <td>72.909500</td>\n",
              "    </tr>\n",
              "  </tbody>\n",
              "</table>\n",
              "</div>"
            ],
            "text/plain": [
              "                 High        Low       Open      Close       Volume  Adj Close\n",
              "Date                                                                          \n",
              "2019-12-24  71.222504  70.730003  71.172501  71.067497   48478800.0  70.580566\n",
              "2019-12-26  72.495003  71.175003  71.205002  72.477501   93121200.0  71.980911\n",
              "2019-12-27  73.492500  72.029999  72.779999  72.449997  146266000.0  71.953598\n",
              "2019-12-30  73.172501  71.305000  72.364998  72.879997  144114400.0  72.380653\n",
              "2019-12-31  73.419998  72.379997  72.482498  73.412498  100805600.0  72.909500"
            ]
          },
          "metadata": {
            "tags": []
          },
          "execution_count": 42
        }
      ]
    },
    {
      "cell_type": "code",
      "metadata": {
        "id": "L2pIUBoVvtgI",
        "outputId": "9d6b40ae-7292-4083-a7b0-bf5fd099f97f",
        "colab": {
          "base_uri": "https://localhost:8080/"
        }
      },
      "source": [
        "!pip install yahoo_fin"
      ],
      "execution_count": 43,
      "outputs": [
        {
          "output_type": "stream",
          "text": [
            "Requirement already satisfied: yahoo_fin in /usr/local/lib/python3.6/dist-packages (0.8.6)\n"
          ],
          "name": "stdout"
        }
      ]
    },
    {
      "cell_type": "code",
      "metadata": {
        "id": "Xh0HH80ywecJ"
      },
      "source": [
        "!pip install requests_html"
      ],
      "execution_count": null,
      "outputs": []
    },
    {
      "cell_type": "code",
      "metadata": {
        "id": "jpGZK-HbwMQa"
      },
      "source": [
        "#load library \n",
        "from yahoo_fin import stock_info as si"
      ],
      "execution_count": 44,
      "outputs": []
    },
    {
      "cell_type": "code",
      "metadata": {
        "id": "kEyB9HpqwcxI",
        "outputId": "74d44e69-7110-4405-cea9-aa5f276b6a0b",
        "colab": {
          "base_uri": "https://localhost:8080/"
        }
      },
      "source": [
        "round(si.get_live_price('aapl'), 0)"
      ],
      "execution_count": 47,
      "outputs": [
        {
          "output_type": "execute_result",
          "data": {
            "text/plain": [
              "110.0"
            ]
          },
          "metadata": {
            "tags": []
          },
          "execution_count": 47
        }
      ]
    },
    {
      "cell_type": "code",
      "metadata": {
        "id": "G9OMpAsxwwZG"
      },
      "source": [
        "si.get_income_statement('aapl', yearly=True)"
      ],
      "execution_count": null,
      "outputs": []
    },
    {
      "cell_type": "code",
      "metadata": {
        "id": "OIMNvDuGw2xh",
        "outputId": "bd88a848-da00-41ee-d67c-77bb5f188206",
        "colab": {
          "base_uri": "https://localhost:8080/"
        }
      },
      "source": [
        "si.get_analysts_info('aapl')"
      ],
      "execution_count": 50,
      "outputs": [
        {
          "output_type": "execute_result",
          "data": {
            "text/plain": [
              "{'EPS Revisions':        EPS Revisions  ...  Next Year (2021)\n",
              " 0     Up Last 7 Days  ...               6.0\n",
              " 1    Up Last 30 Days  ...              13.0\n",
              " 2   Down Last 7 Days  ...               NaN\n",
              " 3  Down Last 30 Days  ...               NaN\n",
              " \n",
              " [4 rows x 5 columns], 'EPS Trend':           EPS Trend  ...  Next Year (2021)\n",
              " 0  Current Estimate  ...              3.90\n",
              " 1        7 Days Ago  ...              3.87\n",
              " 2       30 Days Ago  ...              3.87\n",
              " 3       60 Days Ago  ...             15.54\n",
              " 4       90 Days Ago  ...             14.97\n",
              " \n",
              " [5 rows x 5 columns], 'Earnings Estimate':   Earnings Estimate  ...  Next Year (2021)\n",
              " 0   No. of Analysts  ...             37.00\n",
              " 1     Avg. Estimate  ...              3.90\n",
              " 2      Low Estimate  ...              3.17\n",
              " 3     High Estimate  ...              4.55\n",
              " 4      Year Ago EPS  ...              3.24\n",
              " \n",
              " [5 rows x 5 columns], 'Earnings History':   Earnings History 9/29/2019 12/30/2019 3/30/2020 6/29/2020\n",
              " 0         EPS Est.      0.71       1.14      0.56      0.51\n",
              " 1       EPS Actual      0.76       1.25      0.64      0.64\n",
              " 2       Difference      0.05       0.11      0.08      0.13\n",
              " 3       Surprise %     7.00%      9.60%    14.30%    25.50%, 'Growth Estimates':            Growth Estimates    AAPL  Industry  Sector(s)  S&P 500\n",
              " 0              Current Qtr.  -7.90%       NaN        NaN      NaN\n",
              " 1                 Next Qtr.   9.60%       NaN        NaN      NaN\n",
              " 2              Current Year   9.10%       NaN        NaN      NaN\n",
              " 3                 Next Year  20.40%       NaN        NaN      NaN\n",
              " 4  Next 5 Years (per annum)  12.44%       NaN        NaN      NaN\n",
              " 5  Past 5 Years (per annum)   8.42%       NaN        NaN      NaN, 'Revenue Estimate':           Revenue Estimate  ... Next Year (2021)\n",
              " 0          No. of Analysts  ...               34\n",
              " 1            Avg. Estimate  ...          311.36B\n",
              " 2             Low Estimate  ...          275.55B\n",
              " 3            High Estimate  ...          337.31B\n",
              " 4           Year Ago Sales  ...          273.22B\n",
              " 5  Sales Growth (year/est)  ...           14.00%\n",
              " \n",
              " [6 rows x 5 columns]}"
            ]
          },
          "metadata": {
            "tags": []
          },
          "execution_count": 50
        }
      ]
    },
    {
      "cell_type": "code",
      "metadata": {
        "id": "vpUeooXnxBB6"
      },
      "source": [
        "df = si.get_dividends('aapl', start_date=start_date, end_date=end_date)"
      ],
      "execution_count": null,
      "outputs": []
    },
    {
      "cell_type": "code",
      "metadata": {
        "id": "Mu8qSnD4xPsQ",
        "outputId": "138ef3c1-8807-40e8-b675-43b247a6cb31",
        "colab": {
          "base_uri": "https://localhost:8080/",
          "height": 370
        }
      },
      "source": [
        "df['dividend'].plot(kind='line', figsize=(10,6))"
      ],
      "execution_count": 53,
      "outputs": [
        {
          "output_type": "execute_result",
          "data": {
            "text/plain": [
              "<matplotlib.axes._subplots.AxesSubplot at 0x7f9a58cc0668>"
            ]
          },
          "metadata": {
            "tags": []
          },
          "execution_count": 53
        },
        {
          "output_type": "display_data",
          "data": {
            "image/png": "[encoded data removed]",
            "text/plain": [
              "<Figure size 720x432 with 1 Axes>"
            ]
          },
          "metadata": {
            "tags": [],
            "needs_background": "light"
          }
        }
      ]
    },
    {
      "cell_type": "code",
      "metadata": {
        "id": "GXzi7-QkxY8b",
        "outputId": "0ee7a2c2-8eb3-482a-d910-3ea9b430c2a8",
        "colab": {
          "base_uri": "https://localhost:8080/"
        }
      },
      "source": [
        "si.get_holders('aapl')"
      ],
      "execution_count": 54,
      "outputs": [
        {
          "output_type": "execute_result",
          "data": {
            "text/plain": [
              "{'Direct Holders (Forms 3 and 4)':                                 Holder      Shares  ...  % Out         Value\n",
              " 0           Vanguard Group, Inc. (The)  1315961000  ...  7.69%  120015643200\n",
              " 1                       Blackrock Inc.  1101824048  ...  6.44%  100486353177\n",
              " 2              Berkshire Hathaway, Inc   980622264  ...  5.73%   89432750476\n",
              " 3             State Street Corporation   709057472  ...  4.15%   64666041446\n",
              " 4                             FMR, LLC   383300188  ...  2.24%   34956977145\n",
              " 5        Geode Capital Management, LLC   251695416  ...  1.47%   22954621939\n",
              " 6        Price (T.Rowe) Associates Inc   233087540  ...  1.36%   21257583648\n",
              " 7           Northern Trust Corporation   214144092  ...  1.25%   19529941190\n",
              " 8    Norges Bank Investment Management   187425092  ...  1.10%   13759344566\n",
              " 9  Bank Of New York Mellon Corporation   171219584  ...  1.00%   15615226060\n",
              " \n",
              " [10 rows x 5 columns],\n",
              " 'Major Holders':     0.07%        % of Shares Held by All Insider\n",
              " 0  62.12%       % of Shares Held by Institutions\n",
              " 1  62.16%        % of Float Held by Institutions\n",
              " 2    4296  Number of Institutions Holding Shares,\n",
              " 'Top Institutional Holders':                                               Holder  ...        Value\n",
              " 0             Vanguard Total Stock Market Index Fund  ...  40556510860\n",
              " 1                            Vanguard 500 Index Fund  ...  30836201817\n",
              " 2                             SPDR S&P 500 ETF Trust  ...  19637345812\n",
              " 3        Invesco ETF Tr-Invesco QQQ Tr, Series 1 ETF  ...  20005456771\n",
              " 4                            Fidelity 500 Index Fund  ...  18782793996\n",
              " 5  Vanguard Institutional Index Fund-Institutiona...  ...  13043135808\n",
              " 6                           iShares Core S&P 500 ETF  ...  14296079171\n",
              " 7                         Vanguard Growth Index Fund  ...  11239950566\n",
              " 8         Vanguard Information Technology Index Fund  ...   6314746551\n",
              " 9                 Select Sector SPDR Fund-Technology  ...   8079480017\n",
              " \n",
              " [10 rows x 5 columns]}"
            ]
          },
          "metadata": {
            "tags": []
          },
          "execution_count": 54
        }
      ]
    }
  ]
}