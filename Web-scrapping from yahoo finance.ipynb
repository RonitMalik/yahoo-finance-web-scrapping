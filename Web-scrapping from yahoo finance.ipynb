{
  "nbformat": 4,
  "nbformat_minor": 0,
  "metadata": {
    "colab": {
      "name": "Yahoo_fin Package.ipynb",
      "provenance": [],
      "collapsed_sections": [],
      "authorship_tag": "ABX9TyOJ4weYkFquGIAju+QGhxjK"
    },
    "kernelspec": {
      "name": "python3",
      "display_name": "Python 3"
    }
  },
  "cells": [
    {
      "cell_type": "markdown",
      "metadata": {
        "id": "rbYrnJRTXW8P"
      },
      "source": [
        "Python for Finance using the Yahoo_fin Package "
      ]
    },
    {
      "cell_type": "code",
      "metadata": {
        "id": "xoajTARycJO-"
      },
      "source": [
        "!pip install yahoo_fin\n",
        "!pip install request_html"
      ],
      "execution_count": null,
      "outputs": []
    },
    {
      "cell_type": "markdown",
      "metadata": {
        "id": "J7wClqhyYk6d"
      },
      "source": [
        "You can simply use the '!pip install' command to install the following package. "
      ]
    },
    {
      "cell_type": "markdown",
      "metadata": {
        "id": "dMxf75aaYu9m"
      },
      "source": [
        "After installing the package we can simply install the relevant libraries for the further data analysis "
      ]
    },
    {
      "cell_type": "code",
      "metadata": {
        "id": "1mJushqFV4RY"
      },
      "source": [
        "from yahoo_fin import stock_info as si\n",
        "import pandas as pd\n",
        "import numpy as np\n",
        "from datetime import datetime\n"
      ],
      "execution_count": null,
      "outputs": []
    },
    {
      "cell_type": "code",
      "metadata": {
        "id": "SQW1L_lv1YxZ"
      },
      "source": [
        "#Creating functions to execute the main function "
      ],
      "execution_count": null,
      "outputs": []
    },
    {
      "cell_type": "code",
      "metadata": {
        "id": "a54ooJyFDocC"
      },
      "source": [
        "#this function will fetch the historical data \n",
        "\n",
        "def stock(ticker):\n",
        "  stock_1 = si.get_data(ticker, start_date='1-1-2010', end_date=None, index_as_date=True, interval='1mo')\n",
        "  print(stock_1)"
      ],
      "execution_count": 4,
      "outputs": []
    },
    {
      "cell_type": "markdown",
      "metadata": {
        "id": "li0-p7fGY8D2"
      },
      "source": [
        "After installing the libraries, I have created a function called stock_info, the function basically uses the yahoo_fin package and pulls in information like the real time price, further information about the stock, valuation for the stock. There are many more function you can use to call extra data if needed. "
      ]
    },
    {
      "cell_type": "code",
      "metadata": {
        "id": "StBJWRDFXVKx"
      },
      "source": [
        "#this function will but the stock_information \n",
        "\n",
        "def stock_info(ticker):\n",
        " info = si.get_analysts_info(ticker)\n",
        " val = si.get_stats_valuation(ticker)\n",
        " live_price = si.get_live_price(ticker)\n",
        " return(live_price,val,info)"
      ],
      "execution_count": 3,
      "outputs": []
    },
    {
      "cell_type": "markdown",
      "metadata": {
        "id": "YCHb4mQlZXb7"
      },
      "source": [
        "After defining a function for stock_info I have defined another fucntion called stock which pulls in historical data for the stock you're looking for:"
      ]
    },
    {
      "cell_type": "code",
      "metadata": {
        "id": "mptjpqLH0aWc"
      },
      "source": [
        "#this function will pull the information like cashflow, balance sheet and inceome statement for the ticker \n",
        "\n",
        "def all_stock_info(ticker):\n",
        "  balance_sheet = si.get_balance_sheet(ticker)\n",
        "  cash_flow = si.get_cash_flow(ticker)\n",
        "  income_statement = si.get_income_statement(ticker)\n",
        "\n",
        "  return(balance_sheet, cash_flow, income_statement)\n",
        "\n"
      ],
      "execution_count": 12,
      "outputs": []
    },
    {
      "cell_type": "code",
      "metadata": {
        "id": "Ue_HQmjJ00I-"
      },
      "source": [
        "#This is the main function which will output all the other functions when called \n",
        "\n",
        "def main(ticker):\n",
        "  a = stock(ticker)\n",
        "  b = stock_info(ticker)\n",
        "  c = all_stock_info(ticker)\n",
        "\n",
        "  return(a, b, c)\n"
      ],
      "execution_count": 13,
      "outputs": []
    },
    {
      "cell_type": "code",
      "metadata": {
        "id": "0UBsg7KC1AE8"
      },
      "source": [
        "main('TSLA')"
      ],
      "execution_count": null,
      "outputs": []
    }
  ]
}